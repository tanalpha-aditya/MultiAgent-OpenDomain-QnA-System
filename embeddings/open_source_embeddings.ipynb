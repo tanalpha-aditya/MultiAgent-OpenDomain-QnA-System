{
 "cells": [
  {
   "cell_type": "code",
   "execution_count": 3,
   "metadata": {},
   "outputs": [],
   "source": [
    "from sentence_transformers import SentenceTransformer"
   ]
  },
  {
   "cell_type": "code",
   "execution_count": 2,
   "metadata": {},
   "outputs": [
    {
     "name": "stdout",
     "output_type": "stream",
     "text": [
      "Requirement already satisfied: xformers in /home/pranit/.local/lib/python3.10/site-packages (0.0.28.post1)\n",
      "Requirement already satisfied: numpy in /home/pranit/.local/lib/python3.10/site-packages (from xformers) (1.26.4)\n",
      "Requirement already satisfied: torch==2.4.1 in /home/pranit/.local/lib/python3.10/site-packages (from xformers) (2.4.1)\n",
      "Requirement already satisfied: nvidia-curand-cu12==10.3.2.106 in /home/pranit/.local/lib/python3.10/site-packages (from torch==2.4.1->xformers) (10.3.2.106)\n",
      "Requirement already satisfied: sympy in /home/pranit/.local/lib/python3.10/site-packages (from torch==2.4.1->xformers) (1.13.3)\n",
      "Requirement already satisfied: nvidia-nccl-cu12==2.20.5 in /home/pranit/.local/lib/python3.10/site-packages (from torch==2.4.1->xformers) (2.20.5)\n",
      "Requirement already satisfied: nvidia-nvtx-cu12==12.1.105 in /home/pranit/.local/lib/python3.10/site-packages (from torch==2.4.1->xformers) (12.1.105)\n",
      "Requirement already satisfied: nvidia-cublas-cu12==12.1.3.1 in /home/pranit/.local/lib/python3.10/site-packages (from torch==2.4.1->xformers) (12.1.3.1)\n",
      "Requirement already satisfied: nvidia-cuda-nvrtc-cu12==12.1.105 in /home/pranit/.local/lib/python3.10/site-packages (from torch==2.4.1->xformers) (12.1.105)\n",
      "Requirement already satisfied: triton==3.0.0 in /home/pranit/.local/lib/python3.10/site-packages (from torch==2.4.1->xformers) (3.0.0)\n",
      "Requirement already satisfied: nvidia-cusparse-cu12==12.1.0.106 in /home/pranit/.local/lib/python3.10/site-packages (from torch==2.4.1->xformers) (12.1.0.106)\n",
      "Requirement already satisfied: filelock in /home/pranit/.local/lib/python3.10/site-packages (from torch==2.4.1->xformers) (3.16.1)\n",
      "Requirement already satisfied: typing-extensions>=4.8.0 in /home/pranit/.local/lib/python3.10/site-packages (from torch==2.4.1->xformers) (4.12.2)\n",
      "Requirement already satisfied: nvidia-cuda-cupti-cu12==12.1.105 in /home/pranit/.local/lib/python3.10/site-packages (from torch==2.4.1->xformers) (12.1.105)\n",
      "Requirement already satisfied: jinja2 in /home/pranit/.local/lib/python3.10/site-packages (from torch==2.4.1->xformers) (3.1.4)\n",
      "Requirement already satisfied: fsspec in /home/pranit/.local/lib/python3.10/site-packages (from torch==2.4.1->xformers) (2024.6.1)\n",
      "Requirement already satisfied: nvidia-cudnn-cu12==9.1.0.70 in /home/pranit/.local/lib/python3.10/site-packages (from torch==2.4.1->xformers) (9.1.0.70)\n",
      "Requirement already satisfied: nvidia-cuda-runtime-cu12==12.1.105 in /home/pranit/.local/lib/python3.10/site-packages (from torch==2.4.1->xformers) (12.1.105)\n",
      "Requirement already satisfied: nvidia-cufft-cu12==11.0.2.54 in /home/pranit/.local/lib/python3.10/site-packages (from torch==2.4.1->xformers) (11.0.2.54)\n",
      "Requirement already satisfied: networkx in /home/pranit/.local/lib/python3.10/site-packages (from torch==2.4.1->xformers) (3.3)\n",
      "Requirement already satisfied: nvidia-cusolver-cu12==11.4.5.107 in /home/pranit/.local/lib/python3.10/site-packages (from torch==2.4.1->xformers) (11.4.5.107)\n",
      "Requirement already satisfied: nvidia-nvjitlink-cu12 in /home/pranit/.local/lib/python3.10/site-packages (from nvidia-cusolver-cu12==11.4.5.107->torch==2.4.1->xformers) (12.6.77)\n",
      "Requirement already satisfied: MarkupSafe>=2.0 in /home/pranit/.local/lib/python3.10/site-packages (from jinja2->torch==2.4.1->xformers) (2.1.5)\n",
      "Requirement already satisfied: mpmath<1.4,>=1.1.0 in /home/pranit/.local/lib/python3.10/site-packages (from sympy->torch==2.4.1->xformers) (1.3.0)\n"
     ]
    }
   ],
   "source": [
    "!pip install xformers"
   ]
  },
  {
   "cell_type": "code",
   "execution_count": 4,
   "metadata": {},
   "outputs": [
    {
     "name": "stdout",
     "output_type": "stream",
     "text": [
      "cuda\n"
     ]
    }
   ],
   "source": [
    "import torch\n",
    "device = \"cuda\" if torch.cuda.is_available() else \"cpu\"\n",
    "print(device)"
   ]
  },
  {
   "cell_type": "code",
   "execution_count": 5,
   "metadata": {},
   "outputs": [
    {
     "name": "stderr",
     "output_type": "stream",
     "text": [
      "Some weights of the model checkpoint at dunzhang/stella_en_400M_v5 were not used when initializing NewModel: ['new.pooler.dense.bias', 'new.pooler.dense.weight']\n",
      "- This IS expected if you are initializing NewModel from the checkpoint of a model trained on another task or with another architecture (e.g. initializing a BertForSequenceClassification model from a BertForPreTraining model).\n",
      "- This IS NOT expected if you are initializing NewModel from the checkpoint of a model that you expect to be exactly identical (initializing a BertForSequenceClassification model from a BertForSequenceClassification model).\n"
     ]
    }
   ],
   "source": [
    "model = SentenceTransformer(\"dunzhang/stella_en_400M_v5\", trust_remote_code=True).cuda()"
   ]
  },
  {
   "cell_type": "code",
   "execution_count": 6,
   "metadata": {},
   "outputs": [],
   "source": [
    "import json\n",
    "\n",
    "# Specify the path to your JSON file\n",
    "file_path = 'FinalDataset.json'\n",
    "\n",
    "# Open the file and read its content\n",
    "with open(file_path, 'r') as file:\n",
    "    data = json.load(file)\n",
    "\n",
    "# Now, you can use the data as a Python dictionary\n",
    "# print(data)\n"
   ]
  },
  {
   "cell_type": "code",
   "execution_count": 7,
   "metadata": {},
   "outputs": [],
   "source": [
    "values = data.values()\n",
    "queries = []\n",
    "for value in values:\n",
    "    queries.append(value['input'])"
   ]
  },
  {
   "cell_type": "code",
   "execution_count": 8,
   "metadata": {},
   "outputs": [],
   "source": [
    "values = data.values()\n",
    "documents = []\n",
    "for value in values:\n",
    "    documents.append(list(value['output'].values())[0][0])"
   ]
  },
  {
   "cell_type": "code",
   "execution_count": 9,
   "metadata": {},
   "outputs": [
    {
     "data": {
      "text/plain": [
       "5207"
      ]
     },
     "execution_count": 9,
     "metadata": {},
     "output_type": "execute_result"
    }
   ],
   "source": [
    "len(queries)"
   ]
  },
  {
   "cell_type": "code",
   "execution_count": 10,
   "metadata": {},
   "outputs": [
    {
     "data": {
      "text/plain": [
       "5207"
      ]
     },
     "execution_count": 10,
     "metadata": {},
     "output_type": "execute_result"
    }
   ],
   "source": [
    "len(documents)"
   ]
  },
  {
   "cell_type": "code",
   "execution_count": 11,
   "metadata": {},
   "outputs": [],
   "source": [
    "query_prompt_name = \"s2p_query\"\n",
    "query_embeddings = model.encode(queries, prompt_name=query_prompt_name)"
   ]
  },
  {
   "cell_type": "code",
   "execution_count": 12,
   "metadata": {},
   "outputs": [],
   "source": [
    "doc_embeddings = model.encode(documents)"
   ]
  }
 ],
 "metadata": {
  "kernelspec": {
   "display_name": "Python 3.10.12 64-bit",
   "language": "python",
   "name": "python3"
  },
  "language_info": {
   "codemirror_mode": {
    "name": "ipython",
    "version": 3
   },
   "file_extension": ".py",
   "mimetype": "text/x-python",
   "name": "python",
   "nbconvert_exporter": "python",
   "pygments_lexer": "ipython3",
   "version": "3.10.12"
  },
  "orig_nbformat": 4,
  "vscode": {
   "interpreter": {
    "hash": "e7370f93d1d0cde622a1f8e1c04877d8463912d04d973331ad4851f04de6915a"
   }
  }
 },
 "nbformat": 4,
 "nbformat_minor": 2
}
