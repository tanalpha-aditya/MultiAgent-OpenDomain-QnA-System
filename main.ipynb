{
 "cells": [
  {
   "cell_type": "code",
   "execution_count": 1,
   "metadata": {},
   "outputs": [
    {
     "name": "stderr",
     "output_type": "stream",
     "text": [
      "/home/yash/miniconda3/envs/myenv/lib/python3.12/site-packages/tqdm/auto.py:21: TqdmWarning: IProgress not found. Please update jupyter and ipywidgets. See https://ipywidgets.readthedocs.io/en/stable/user_install.html\n",
      "  from .autonotebook import tqdm as notebook_tqdm\n",
      "/home/yash/miniconda3/envs/myenv/lib/python3.12/site-packages/transformers/tokenization_utils_base.py:1601: FutureWarning: `clean_up_tokenization_spaces` was not set. It will be set to `True` by default. This behavior will be depracted in transformers v4.45, and will be then set to `False` by default. For more details check this issue: https://github.com/huggingface/transformers/issues/31884\n",
      "  warnings.warn(\n"
     ]
    }
   ],
   "source": [
    "# Agents\n",
    "from Agents.togetherAIAgent import generate_article_from_query\n",
    "from Agents.wikiAgent import get_wiki_data\n",
    "from Agents.rankerAgent import rankerAgent\n",
    "from Query_Modification.QueryModification import query_Modifier, getKeywords\n",
    "\n",
    "from Ranking.RRF.RRF_implementation import reciprocal_rank_fusion_three, reciprocal_rank_fusion_six, reciprocal_rank_fusion_multiple_lists\n",
    "\n",
    "# Retrieval Models\n",
    "from Retrieval.tf_idf import tf_idf_pipeline\n",
    "from Retrieval.bm25 import bm25_pipeline\n",
    "from Retrieval.vision import vision_pipeline\n",
    "from Retrieval.openSource import open_source_pipeline\n",
    "from Baseline.boolean import boolean_pipeline\n",
    "# Answer Generation\n",
    "from AnswerGeneration.getAnswer import generate_answer_withContext, generate_answer_zeroShot\n",
    "\n",
    "import json"
   ]
  },
  {
   "cell_type": "code",
   "execution_count": 2,
   "metadata": {},
   "outputs": [],
   "source": [
    "miniWikiCollection = json.load(open('Datasets/mini_wiki_collection.json', 'r'))\n",
    "miniWikiCollectionDict = {}\n",
    "\n",
    "for wiki in miniWikiCollection:\n",
    "    miniWikiCollectionDict[wiki['wikipedia_id']] = \" \".join(wiki['text'])\n",
    "    # miniWikiCollectionDict[wiki['wikipedia_id']] = \" \".join((\" \".join(wiki['text'])).split()[:500])"
   ]
  },
  {
   "cell_type": "code",
   "execution_count": 3,
   "metadata": {},
   "outputs": [],
   "source": [
    "query = \"Who is Harry Potter?\""
   ]
  },
  {
   "cell_type": "code",
   "execution_count": 4,
   "metadata": {},
   "outputs": [
    {
     "name": "stderr",
     "output_type": "stream",
     "text": [
      "2024-11-19 07:00:08,945 - INFO - Wikipedia: language=en, user_agent: WikipediaSearcher/1.0 (Wikipedia-API/0.7.1; https://github.com/martin-majlis/Wikipedia-API/), extract_format=1\n",
      "2024-11-19 07:00:08,946 - INFO - Request URL: https://en.wikipedia.org/w/api.php?action=query&prop=info&titles=Harry Potter&inprop=protection|talkid|watched|watchers|visitingwatchers|notificationtimestamp|subjectid|url|readable|preload|displaytitle\n",
      "2024-11-19 07:00:10,210 - INFO - Request URL: https://en.wikipedia.org/w/api.php?action=query&prop=categories&titles=Harry Potter&cllimit=500\n",
      "2024-11-19 07:00:10,506 - INFO - Request URL: https://en.wikipedia.org/w/api.php?action=query&prop=extracts&titles=Harry Potter&explaintext=1&exsectionformat=wiki\n",
      "2024-11-19 07:00:10,823 - INFO - Request URL: https://en.wikipedia.org/w/api.php?action=query&prop=links&titles=Harry Potter&pllimit=500\n",
      "2024-11-19 07:00:11,335 - INFO - Request URL: https://en.wikipedia.org/w/api.php?action=query&prop=links&titles=Harry Potter&pllimit=500&plcontinue=2387806|0|The_Christian_Science_Monitor\n",
      "2024-11-19 07:00:11,620 - INFO - Request URL: https://en.wikipedia.org/w/api.php?action=query&prop=info&titles=1999 Whitbread Awards&inprop=protection|talkid|watched|watchers|visitingwatchers|notificationtimestamp|subjectid|url|readable|preload|displaytitle\n",
      "2024-11-19 07:00:12,006 - INFO - Request URL: https://en.wikipedia.org/w/api.php?action=query&prop=categories&titles=Costa Book Awards&cllimit=500\n",
      "2024-11-19 07:00:12,286 - INFO - Request URL: https://en.wikipedia.org/w/api.php?action=query&prop=extracts&titles=Costa Book Awards&explaintext=1&exsectionformat=wiki\n",
      "2024-11-19 07:00:12,598 - INFO - Request URL: https://en.wikipedia.org/w/api.php?action=query&prop=info&titles=1 Corinthians 15:26&inprop=protection|talkid|watched|watchers|visitingwatchers|notificationtimestamp|subjectid|url|readable|preload|displaytitle\n",
      "2024-11-19 07:00:12,963 - INFO - Request URL: https://en.wikipedia.org/w/api.php?action=query&prop=categories&titles=First Epistle to the Corinthians&cllimit=500\n",
      "2024-11-19 07:00:13,242 - INFO - Request URL: https://en.wikipedia.org/w/api.php?action=query&prop=extracts&titles=First Epistle to the Corinthians&explaintext=1&exsectionformat=wiki\n"
     ]
    }
   ],
   "source": [
    "query = \"Who is Harry Potter?\"\n",
    "modified_query = query_Modifier(query)\n",
    "\n",
    "# Context Generation\n",
    "article = generate_article_from_query(query)\n",
    "\n",
    "# Keyword Extraction and getting Context from Wiki\n",
    "keywords = getKeywords(query)\n",
    "wiki_data = get_wiki_data(keywords)"
   ]
  },
  {
   "cell_type": "code",
   "execution_count": 5,
   "metadata": {},
   "outputs": [
    {
     "data": {
      "text/plain": [
       "'Harry Potter: The Boy Who Lived\\n\\nHarry Potter is a fictional character created by British author J.K. Rowling. He is the main protagonist in a series of fantasy novels, films, and other media that have become a global phenomenon. The character\\'s story has captivated audiences of all ages, making him one of the most beloved and iconic figures in popular culture.\\n\\nBackground and Creation\\n\\nHarry Potter was born on July 31, 1980, to James and Lily Potter, two wizards who were killed by the dark wizard Lord Voldemort when Harry was just a baby. This event, known as the \"Killing Curse,\" left Harry with a lightning-shaped scar on his forehead and made him famous in the wizarding world as \"The Boy Who Lived.\" Rowling drew inspiration for the character from her own childhood experiences, including her struggles with depression and her fascination with mythology and folklore.\\n\\nThe Harry Potter series follows the adventures of the young wizard as he attends Hogwarts School of Witchcraft and Wizardry, makes friends with Ron Weasley and Hermione Granger, and battles against the evil forces of Voldemort. Throughout the series, Harry faces numerous challenges, including the discovery of his own destiny as \"The Chosen One\" and the struggle to balance his ordinary life with his extraordinary abilities.\\n\\nNotable Insights\\n\\nHarry Potter\\'s character has been praised for his relatability, courage, and willingness to sacrifice himself for the greater good. His story has also been credited with inspiring a love of reading and a sense of community among fans worldwide. The character\\'s impact on popular culture is evident in the numerous fan art, cosplay, and fan fiction creations that have emerged over the years.\\n\\nImpact and Legacy\\n\\nThe Harry Potter series has had a significant impact on the publishing industry, with the books selling over 500 million copies worldwide. The films, which were released between 2001 and 2011, grossed over $7.7 billion at the box office. The franchise has also spawned theme parks, merchandise, and a dedicated fan base.\\n\\nIn conclusion, Harry Potter is a beloved and iconic character who has captured the hearts of millions around the world. His story is a testament to the power of imagination, friendship, and the human spirit. As a cultural phenomenon, Harry Potter continues to inspire and entertain audiences, cementing his place as one of the most enduring and influential characters in popular culture.'"
      ]
     },
     "execution_count": 5,
     "metadata": {},
     "output_type": "execute_result"
    }
   ],
   "source": [
    "article"
   ]
  },
  {
   "cell_type": "code",
   "execution_count": 6,
   "metadata": {},
   "outputs": [
    {
     "data": {
      "text/plain": [
       "\"Harry Potter is a series of seven fantasy novels written by British author J. K. Rowling. The novels chronicle the lives of a young wizard, Harry Potter, and his friends, Hermione Granger and Ron Weasley, all of whom are students at Hogwarts School of Witchcraft and Wizardry. The main story arc concerns Harry's conflict with Lord Voldemort, a dark wizard who intends to become immortal, overthrow the wizard governing body known as the Ministry of Magic, and subjugate all wizards and Muggles (non-magical people).\\nThe series was originally published in English by Bloomsbury in the United Kingdom and Scholastic Press in the United States.  A series of many genres, including fantasy, drama, coming-of-age fiction, and the British school story (which includes elements of mystery, thriller, adventure, horror, and romance), the world of Harry Potter explores numerous themes and includes many cultural meanings and references. Major themes in the series include prejudice, corruption, madness, love, and death.\\nSince the release of the first novel, Harry Potter and the Philosopher's Stone, on 26 June 1997, the books have found immense popularity and commercial success worldwide. They have attracted a wide adult audience as well as younger readers and are widely considered cornerstones of modern literature, though the books have received mixed reviews from critics and literary scholars. As of February 2023, the books have sold more than 600 million copies worldwide, making them the best-selling book series in history, available in dozens of languages. The last four books all set records as the fastest-selling books in history, with the final instalment selling roughly 2.7 million copies in the United Kingdom and 8.3 million copies in the United States within twenty-four hours of its release.\\nWarner Bros. Pictures adapted the original seven books into an eight-part namesake film series. In 2016, the total value of the Harry Potter franchise was estimated at $25 billion, making it one of the highest-grossing media franchises of all time. Harry Potter and the Cursed Child is a play based on a story co-written by Rowling.\\nThe success of the books and films has allowed the Harry Potter franchise to expand with numerous derivative works, a travelling exhibition that premiered in Chicago in 2009, a studio tour in London that opened in 2012, a digital platform on which J. K. Rowling updates the series with new information and insight, and a trilogy of spin-off films premiering in November 2016 with Fantastic Beasts and Where to Find Them, among many other developments. Themed attractions, collectively known as The Wizarding World of Harry Potter, have been built at several Universal Destinations & Experiences amusement parks around the world.\\nA new Harry Potter television series is planned for release in 2026 on Max. The seven-season series will adapt each of J.K. Rowling's books, featuring a new cast and aiming for a detailed portrayal of the story. It is produced by Warner Bros. Television with Rowling as an executive producer\""
      ]
     },
     "execution_count": 6,
     "metadata": {},
     "output_type": "execute_result"
    }
   ],
   "source": [
    "wiki_data[0]"
   ]
  },
  {
   "cell_type": "code",
   "execution_count": 7,
   "metadata": {},
   "outputs": [
    {
     "data": {
      "text/plain": [
       "'Who is Harry Potter, and what are his key characteristics and defining moments in the Harry Potter book series?\\n'"
      ]
     },
     "execution_count": 7,
     "metadata": {},
     "output_type": "execute_result"
    }
   ],
   "source": [
    "modified_query"
   ]
  },
  {
   "cell_type": "code",
   "execution_count": 8,
   "metadata": {},
   "outputs": [
    {
     "name": "stdout",
     "output_type": "stream",
     "text": [
      "idf loaded...\n",
      "tf-idf loaded...\n",
      "vocab loaded...\n",
      "document_matrix loaded...\n",
      "ids loaded\n"
     ]
    },
    {
     "name": "stderr",
     "output_type": "stream",
     "text": [
      "100%|██████████| 100/100 [00:00<00:00, 353055.89it/s]\n",
      "100%|██████████| 1000/1000 [00:00<00:00, 33968.85it/s]\n"
     ]
    },
    {
     "name": "stdout",
     "output_type": "stream",
     "text": [
      "loaded embeddings\n"
     ]
    },
    {
     "name": "stderr",
     "output_type": "stream",
     "text": [
      "Batches: 100%|██████████| 1/1 [00:00<00:00, 32.66it/s]\n",
      "100%|██████████| 100/100 [00:00<00:00, 1370687.58it/s]\n"
     ]
    },
    {
     "name": "stdout",
     "output_type": "stream",
     "text": [
      "idf loaded...\n",
      "tf-idf loaded...\n",
      "vocab loaded...\n",
      "document_matrix loaded...\n",
      "ids loaded\n"
     ]
    },
    {
     "name": "stderr",
     "output_type": "stream",
     "text": [
      "100%|██████████| 100/100 [00:00<00:00, 1267161.33it/s]\n",
      "100%|██████████| 1000/1000 [00:00<00:00, 33751.81it/s]\n"
     ]
    },
    {
     "name": "stdout",
     "output_type": "stream",
     "text": [
      "loaded embeddings\n"
     ]
    },
    {
     "name": "stderr",
     "output_type": "stream",
     "text": [
      "Batches: 100%|██████████| 1/1 [00:00<00:00, 96.40it/s]\n",
      "100%|██████████| 100/100 [00:00<00:00, 1067252.93it/s]\n"
     ]
    }
   ],
   "source": [
    "boolean_ranking = boolean_pipeline(query)\n",
    "tf_idf_ranking = tf_idf_pipeline(query)\n",
    "bm25_ranking = bm25_pipeline(query)\n",
    "vision_ranking = vision_pipeline(query)\n",
    "open_source_ranking = open_source_pipeline(query)\n",
    "\n",
    "boolean_ranking_modified = boolean_pipeline(modified_query)\n",
    "tf_idf_ranking_modified = tf_idf_pipeline(modified_query)\n",
    "bm25_ranking_modified = bm25_pipeline(modified_query)\n",
    "vision_ranking_modified = vision_pipeline(modified_query)\n",
    "open_source_ranking_modified = open_source_pipeline(modified_query)\n",
    "\n",
    "tf_idf_bm25_open_RRF_Ranking = reciprocal_rank_fusion_three(tf_idf_ranking, bm25_ranking, open_source_ranking)\n",
    "tf_idf_bm25_open_RRF_Ranking_modified = reciprocal_rank_fusion_three(tf_idf_ranking_modified, bm25_ranking_modified, open_source_ranking_modified)\n",
    "tf_idf_bm25_open_RRF_Ranking_combined = reciprocal_rank_fusion_six(tf_idf_ranking, bm25_ranking, open_source_ranking, tf_idf_ranking_modified, bm25_ranking_modified, open_source_ranking_modified)"
   ]
  },
  {
   "cell_type": "code",
   "execution_count": 9,
   "metadata": {},
   "outputs": [],
   "source": [
    "agent1_context = wiki_data[0]\n",
    "agent2_context = article\n",
    "\n",
    "boolean_context = miniWikiCollectionDict[boolean_ranking[0]]\n",
    "tf_idf_context = miniWikiCollectionDict[tf_idf_ranking[0]]\n",
    "bm25_context = miniWikiCollectionDict[str(bm25_ranking[0])]\n",
    "vision_context = miniWikiCollectionDict[vision_ranking[0]]\n",
    "open_source_context = miniWikiCollectionDict[open_source_ranking[0]]\n",
    "\n",
    "boolean_context_modified = miniWikiCollectionDict[boolean_ranking_modified[0]]\n",
    "tf_idf_context_modified = miniWikiCollectionDict[tf_idf_ranking_modified[0]]\n",
    "bm25_context = miniWikiCollectionDict[str(bm25_ranking_modified[0])]\n",
    "vision_context_modified = miniWikiCollectionDict[vision_ranking_modified[0]]\n",
    "open_source_context_modified = miniWikiCollectionDict[open_source_ranking_modified[0]]\n",
    "\n",
    "tf_idf_bm25_open_RRF_Ranking_context = miniWikiCollectionDict[tf_idf_bm25_open_RRF_Ranking[0]]\n",
    "tf_idf_bm25_open_RRF_Ranking_modified_context = miniWikiCollectionDict[tf_idf_bm25_open_RRF_Ranking_modified[0]]\n",
    "tf_idf_bm25_open_RRF_Ranking_combined_context = miniWikiCollectionDict[tf_idf_bm25_open_RRF_Ranking_combined[0]]"
   ]
  },
  {
   "cell_type": "code",
   "execution_count": 10,
   "metadata": {},
   "outputs": [],
   "source": [
    "#Generating answers\n",
    "\n",
    "agent1_answer = generate_answer_withContext(query, agent1_context)\n",
    "agent2_answer = generate_answer_withContext(query, agent2_context)\n",
    "\n",
    "boolean_answer = generate_answer_withContext(query, boolean_context)\n",
    "tf_idf_answer = generate_answer_withContext(query, tf_idf_context)\n",
    "bm25_answer = generate_answer_withContext(query, bm25_context)\n",
    "vision_answer = generate_answer_withContext(query, vision_context)\n",
    "open_source_answer = generate_answer_withContext(query, open_source_context)\n",
    "\n",
    "boolean_answer_modified = generate_answer_withContext(modified_query, boolean_context_modified)\n",
    "tf_idf_answer_modified = generate_answer_withContext(modified_query, tf_idf_context_modified)\n",
    "bm25_answer_modified = generate_answer_withContext(modified_query, bm25_context)\n",
    "vision_answer_modified = generate_answer_withContext(modified_query, vision_context_modified)\n",
    "open_source_answer_modified = generate_answer_withContext(modified_query, open_source_context_modified)\n",
    "\n",
    "tf_idf_bm25_open_RRF_Ranking_answer = generate_answer_withContext(query, tf_idf_bm25_open_RRF_Ranking_context)\n",
    "tf_idf_bm25_open_RRF_Ranking_modified_answer = generate_answer_withContext(modified_query, tf_idf_bm25_open_RRF_Ranking_modified_context)\n",
    "tf_idf_bm25_open_RRF_Ranking_combined_answer = generate_answer_withContext(query, tf_idf_bm25_open_RRF_Ranking_combined_context)\n",
    "\n",
    "zeroShot = generate_answer_zeroShot(query)"
   ]
  },
  {
   "cell_type": "code",
   "execution_count": 11,
   "metadata": {},
   "outputs": [],
   "source": [
    "# reRanker\n",
    "rankerAgentInput = {\n",
    "    \"query\": query,\n",
    "    \"agent1\": agent1_answer,\n",
    "    \"agent2\": agent2_answer,\n",
    "    \"boolean\": boolean_answer,\n",
    "    \"tf_idf\": tf_idf_answer,\n",
    "    \"bm25\": bm25_answer,\n",
    "    \"vision\": vision_answer,\n",
    "    \"open_source\": open_source_answer,\n",
    "    \"boolean_modified\": boolean_answer_modified,\n",
    "    \"tf_idf_modified\": tf_idf_answer_modified,\n",
    "    \"bm25_modified\": bm25_answer_modified,\n",
    "    \"vision_modified\": vision_answer_modified,\n",
    "    \"open_source_modified\": open_source_answer_modified,\n",
    "    \"tf_idf_bm25_open_RRF_Ranking\": tf_idf_bm25_open_RRF_Ranking_answer,\n",
    "    \"tf_idf_bm25_open_RRF_Ranking_modified\": tf_idf_bm25_open_RRF_Ranking_modified_answer,\n",
    "    \"tf_idf_bm25_open_RRF_Ranking_combined\": tf_idf_bm25_open_RRF_Ranking_combined_answer,\n",
    "    \"zeroShot\": zeroShot\n",
    "}\n",
    "\n",
    "best_model, best_answer = rankerAgent(rankerAgentInput)"
   ]
  },
  {
   "cell_type": "code",
   "execution_count": 12,
   "metadata": {},
   "outputs": [
    {
     "data": {
      "text/plain": [
       "('tf_idf_bm25_open_RRF_Ranking_modified',\n",
       " \"Harry Potter is the main protagonist of the series, a 17-year-old wizard who is known for his bravery, loyalty, and determination. He is an orphan who discovers he is famous in the wizarding world and begins attending Hogwarts School of Witchcraft and Wizardry, where he forms close friendships with Ron Weasley and Hermione Granger. Throughout the series, Harry faces numerous challenges as he battles against the dark wizard Lord Voldemort, who murdered Harry's parents and seeks to return to power. Key characteristics of Harry include his courage, selflessness, and willingness to risk himself to protect others. Defining moments in the series include his initial discovery of his true identity as a wizard, his battles against Voldemort, and his ultimate defeat of the Dark Lord in the final book.\")"
      ]
     },
     "execution_count": 12,
     "metadata": {},
     "output_type": "execute_result"
    }
   ],
   "source": [
    "best_model, best_answer"
   ]
  },
  {
   "cell_type": "code",
   "execution_count": null,
   "metadata": {},
   "outputs": [],
   "source": []
  }
 ],
 "metadata": {
  "kernelspec": {
   "display_name": "myenv",
   "language": "python",
   "name": "python3"
  },
  "language_info": {
   "codemirror_mode": {
    "name": "ipython",
    "version": 3
   },
   "file_extension": ".py",
   "mimetype": "text/x-python",
   "name": "python",
   "nbconvert_exporter": "python",
   "pygments_lexer": "ipython3",
   "version": "3.12.4"
  }
 },
 "nbformat": 4,
 "nbformat_minor": 2
}
