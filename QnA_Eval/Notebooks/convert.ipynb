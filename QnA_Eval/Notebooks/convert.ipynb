{
 "cells": [
  {
   "cell_type": "code",
   "execution_count": null,
   "metadata": {},
   "outputs": [],
   "source": [
    "# files = [\"tf_idf_bm25_open_1_0_top_100_combined.json\", \"tf_idf_bm25_open_1_1_top_100_combined.json\", \"tf_idf_bm25_open_1_2_top_100_combined.json\", \"tf_idf_bm25_open_1_0_top_100_combined_modified.json\", \"tf_idf_bm25_open_1_1_top_100_combined_modified.json\", \"tf_idf_bm25_open_1_2_top_100_combined_modified.json\", \"tf_idf_bm25_open_1_0_top_100_combined_both.json\", \"tf_idf_bm25_open_1_1_top_100_combined_both.json\", \"tf_idf_bm25_open_1_2_top_100_combined_both.json\"]\n",
    "\n",
    "# import json\n",
    "\n",
    "# for file_path in files:\n",
    "#     with open(file_path, \"r\") as file:\n",
    "#         data = json.load(file)\n",
    "    \n",
    "#     # Transform data into a list of dictionaries (this is just an example; modify based on your actual data structure)\n",
    "#     transformed_data = [{key: value} for key, value in data.items()]\n",
    "\n",
    "#     # Save the transformed data to a new file\n",
    "#     with open(file_path, \"w\") as file:\n",
    "#         json.dump(transformed_data, file, indent=4, ensure_ascii=False)"
   ]
  },
  {
   "cell_type": "code",
   "execution_count": 1,
   "metadata": {},
   "outputs": [],
   "source": [
    "import json\n",
    "files = [\"reranked_best_answers_1_0.json\", \"reranked_best_answers_1_1.json\", \"reranked_best_answers_1_2.json\"]\n",
    "\n",
    "\n",
    "with open(\"open_source_1_2_top_100_response.json\", \"r\") as file:\n",
    "    data = json.load(file)\n",
    "\n",
    "dict_data = {}\n",
    "for datapoint in data:\n",
    "    dict_data[datapoint[\"query_id\"]] = datapoint[\"gold_answer\"]\n",
    "\n",
    "\n",
    "for file_path in files:\n",
    "    with open(file_path, \"r\") as file:\n",
    "        data = json.load(file)\n",
    "    \n",
    "    for datapoint in data:\n",
    "        datapoint[\"gold_answer\"] = dict_data[datapoint[\"query_id\"]]\n",
    "        datapoint[\"input\"] = datapoint[\"question\"]\n",
    "        datapoint[\"response\"] = datapoint[\"best_answer\"].replace(\"The best_answer is:\", \"\")\n",
    "    \n",
    "    # Save the transformed data to a new file\n",
    "    with open(file_path, \"w\") as file:\n",
    "        json.dump(data, file, indent=4, ensure_ascii=False)"
   ]
  },
  {
   "cell_type": "code",
   "execution_count": null,
   "metadata": {},
   "outputs": [],
   "source": []
  }
 ],
 "metadata": {
  "kernelspec": {
   "display_name": "base",
   "language": "python",
   "name": "python3"
  },
  "language_info": {
   "codemirror_mode": {
    "name": "ipython",
    "version": 3
   },
   "file_extension": ".py",
   "mimetype": "text/x-python",
   "name": "python",
   "nbconvert_exporter": "python",
   "pygments_lexer": "ipython3",
   "version": "3.12.2"
  }
 },
 "nbformat": 4,
 "nbformat_minor": 2
}
