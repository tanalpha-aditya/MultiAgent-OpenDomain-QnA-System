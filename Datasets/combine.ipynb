{
 "cells": [
  {
   "cell_type": "code",
   "execution_count": 3,
   "metadata": {},
   "outputs": [
    {
     "name": "stdout",
     "output_type": "stream",
     "text": [
      "Successfully combined the JSON files!\n"
     ]
    }
   ],
   "source": [
    "import json\n",
    "\n",
    "# Load each of the JSON files\n",
    "def load_json(file_path):\n",
    "    with open(file_path, 'r') as f:\n",
    "        return json.load(f)\n",
    "\n",
    "# Paths to the JSON files\n",
    "file1 = 'data1.json'\n",
    "file2 = 'data2.json'\n",
    "file3 = 'data3.json'\n",
    "\n",
    "# Load the JSON data from each file\n",
    "data1 = load_json(file1)\n",
    "data2 = load_json(file2)\n",
    "data3 = load_json(file3)\n",
    "\n",
    "# Combine the data from all three JSON files\n",
    "combined_data = {**data1, **data2, **data3}\n",
    "\n",
    "# Write the combined data to a new JSON file\n",
    "with open('FinalDataset.json', 'w') as output_file:\n",
    "    json.dump(combined_data, output_file, indent=4)\n",
    "\n",
    "print(\"Successfully combined the JSON files!\")"
   ]
  },
  {
   "cell_type": "code",
   "execution_count": 4,
   "metadata": {},
   "outputs": [
    {
     "data": {
      "text/plain": [
       "5207"
      ]
     },
     "execution_count": 4,
     "metadata": {},
     "output_type": "execute_result"
    }
   ],
   "source": [
    "len(combined_data)"
   ]
  },
  {
   "cell_type": "code",
   "execution_count": null,
   "metadata": {},
   "outputs": [],
   "source": []
  }
 ],
 "metadata": {
  "kernelspec": {
   "display_name": "myenv",
   "language": "python",
   "name": "python3"
  },
  "language_info": {
   "codemirror_mode": {
    "name": "ipython",
    "version": 3
   },
   "file_extension": ".py",
   "mimetype": "text/x-python",
   "name": "python",
   "nbconvert_exporter": "python",
   "pygments_lexer": "ipython3",
   "version": "3.12.4"
  }
 },
 "nbformat": 4,
 "nbformat_minor": 2
}
